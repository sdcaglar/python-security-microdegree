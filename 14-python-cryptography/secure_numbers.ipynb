{
 "cells": [
  {
   "cell_type": "markdown",
   "id": "73074698",
   "metadata": {},
   "source": [
    "# SECRETS"
   ]
  },
  {
   "cell_type": "code",
   "execution_count": 1,
   "id": "95c082ac",
   "metadata": {},
   "outputs": [],
   "source": [
    "import secrets"
   ]
  },
  {
   "cell_type": "code",
   "execution_count": 2,
   "id": "ed3fdc25",
   "metadata": {},
   "outputs": [
    {
     "data": {
      "text/plain": [
       "['DEFAULT_ENTROPY',\n",
       " 'SystemRandom',\n",
       " '__all__',\n",
       " '__builtins__',\n",
       " '__cached__',\n",
       " '__doc__',\n",
       " '__file__',\n",
       " '__loader__',\n",
       " '__name__',\n",
       " '__package__',\n",
       " '__spec__',\n",
       " '_sysrand',\n",
       " 'base64',\n",
       " 'binascii',\n",
       " 'choice',\n",
       " 'compare_digest',\n",
       " 'randbelow',\n",
       " 'randbits',\n",
       " 'token_bytes',\n",
       " 'token_hex',\n",
       " 'token_urlsafe']"
      ]
     },
     "execution_count": 2,
     "metadata": {},
     "output_type": "execute_result"
    }
   ],
   "source": [
    "dir(secrets)"
   ]
  },
  {
   "cell_type": "code",
   "execution_count": 3,
   "id": "7bde1752",
   "metadata": {},
   "outputs": [
    {
     "data": {
      "text/plain": [
       "32"
      ]
     },
     "execution_count": 3,
     "metadata": {},
     "output_type": "execute_result"
    }
   ],
   "source": [
    "secrets.DEFAULT_ENTROPY"
   ]
  },
  {
   "cell_type": "code",
   "execution_count": 4,
   "id": "0f12327b",
   "metadata": {},
   "outputs": [
    {
     "data": {
      "text/plain": [
       "['VERSION',\n",
       " '__class__',\n",
       " '__delattr__',\n",
       " '__dict__',\n",
       " '__dir__',\n",
       " '__doc__',\n",
       " '__eq__',\n",
       " '__format__',\n",
       " '__ge__',\n",
       " '__getattribute__',\n",
       " '__getstate__',\n",
       " '__gt__',\n",
       " '__hash__',\n",
       " '__init__',\n",
       " '__init_subclass__',\n",
       " '__le__',\n",
       " '__lt__',\n",
       " '__module__',\n",
       " '__ne__',\n",
       " '__new__',\n",
       " '__reduce__',\n",
       " '__reduce_ex__',\n",
       " '__repr__',\n",
       " '__setattr__',\n",
       " '__setstate__',\n",
       " '__sizeof__',\n",
       " '__str__',\n",
       " '__subclasshook__',\n",
       " '__weakref__',\n",
       " '_notimplemented',\n",
       " '_randbelow',\n",
       " '_randbelow_with_getrandbits',\n",
       " '_randbelow_without_getrandbits',\n",
       " 'betavariate',\n",
       " 'choice',\n",
       " 'choices',\n",
       " 'expovariate',\n",
       " 'gammavariate',\n",
       " 'gauss',\n",
       " 'getrandbits',\n",
       " 'getstate',\n",
       " 'lognormvariate',\n",
       " 'normalvariate',\n",
       " 'paretovariate',\n",
       " 'randbytes',\n",
       " 'randint',\n",
       " 'random',\n",
       " 'randrange',\n",
       " 'sample',\n",
       " 'seed',\n",
       " 'setstate',\n",
       " 'shuffle',\n",
       " 'triangular',\n",
       " 'uniform',\n",
       " 'vonmisesvariate',\n",
       " 'weibullvariate']"
      ]
     },
     "execution_count": 4,
     "metadata": {},
     "output_type": "execute_result"
    }
   ],
   "source": [
    "dir(secrets.SystemRandom)"
   ]
  },
  {
   "cell_type": "code",
   "execution_count": 5,
   "id": "b9c7480e",
   "metadata": {},
   "outputs": [
    {
     "name": "stdout",
     "output_type": "stream",
     "text": [
      "Help on class SystemRandom in module random:\n",
      "\n",
      "class SystemRandom(Random)\n",
      " |  SystemRandom(x=None)\n",
      " |  \n",
      " |  Alternate random number generator using sources provided\n",
      " |  by the operating system (such as /dev/urandom on Unix or\n",
      " |  CryptGenRandom on Windows).\n",
      " |  \n",
      " |   Not available on all systems (see os.urandom() for details).\n",
      " |  \n",
      " |  Method resolution order:\n",
      " |      SystemRandom\n",
      " |      Random\n",
      " |      _random.Random\n",
      " |      builtins.object\n",
      " |  \n",
      " |  Methods defined here:\n",
      " |  \n",
      " |  getrandbits(self, k)\n",
      " |      getrandbits(k) -> x.  Generates an int with k random bits.\n",
      " |  \n",
      " |  getstate = _notimplemented(self, *args, **kwds)\n",
      " |  \n",
      " |  randbytes(self, n)\n",
      " |      Generate n random bytes.\n",
      " |  \n",
      " |  random(self)\n",
      " |      Get the next random number in the range [0.0, 1.0).\n",
      " |  \n",
      " |  seed(self, *args, **kwds)\n",
      " |      Stub method.  Not used for a system random number generator.\n",
      " |  \n",
      " |  setstate = _notimplemented(self, *args, **kwds)\n",
      " |  \n",
      " |  ----------------------------------------------------------------------\n",
      " |  Methods inherited from Random:\n",
      " |  \n",
      " |  __getstate__(self)\n",
      " |      # Issue 17489: Since __reduce__ was defined to fix #759889 this is no\n",
      " |      # longer called; we leave it here because it has been here since random was\n",
      " |      # rewritten back in 2001 and why risk breaking something.\n",
      " |  \n",
      " |  __init__(self, x=None)\n",
      " |      Initialize an instance.\n",
      " |      \n",
      " |      Optional argument x controls seeding, as for Random.seed().\n",
      " |  \n",
      " |  __reduce__(self)\n",
      " |      Helper for pickle.\n",
      " |  \n",
      " |  __setstate__(self, state)\n",
      " |  \n",
      " |  betavariate(self, alpha, beta)\n",
      " |      Beta distribution.\n",
      " |      \n",
      " |      Conditions on the parameters are alpha > 0 and beta > 0.\n",
      " |      Returned values range between 0 and 1.\n",
      " |  \n",
      " |  choice(self, seq)\n",
      " |      Choose a random element from a non-empty sequence.\n",
      " |  \n",
      " |  choices(self, population, weights=None, *, cum_weights=None, k=1)\n",
      " |      Return a k sized list of population elements chosen with replacement.\n",
      " |      \n",
      " |      If the relative weights or cumulative weights are not specified,\n",
      " |      the selections are made with equal probability.\n",
      " |  \n",
      " |  expovariate(self, lambd)\n",
      " |      Exponential distribution.\n",
      " |      \n",
      " |      lambd is 1.0 divided by the desired mean.  It should be\n",
      " |      nonzero.  (The parameter would be called \"lambda\", but that is\n",
      " |      a reserved word in Python.)  Returned values range from 0 to\n",
      " |      positive infinity if lambd is positive, and from negative\n",
      " |      infinity to 0 if lambd is negative.\n",
      " |  \n",
      " |  gammavariate(self, alpha, beta)\n",
      " |      Gamma distribution.  Not the gamma function!\n",
      " |      \n",
      " |      Conditions on the parameters are alpha > 0 and beta > 0.\n",
      " |      \n",
      " |      The probability distribution function is:\n",
      " |      \n",
      " |                  x ** (alpha - 1) * math.exp(-x / beta)\n",
      " |        pdf(x) =  --------------------------------------\n",
      " |                    math.gamma(alpha) * beta ** alpha\n",
      " |  \n",
      " |  gauss(self, mu, sigma)\n",
      " |      Gaussian distribution.\n",
      " |      \n",
      " |      mu is the mean, and sigma is the standard deviation.  This is\n",
      " |      slightly faster than the normalvariate() function.\n",
      " |      \n",
      " |      Not thread-safe without a lock around calls.\n",
      " |  \n",
      " |  lognormvariate(self, mu, sigma)\n",
      " |      Log normal distribution.\n",
      " |      \n",
      " |      If you take the natural logarithm of this distribution, you'll get a\n",
      " |      normal distribution with mean mu and standard deviation sigma.\n",
      " |      mu can have any value, and sigma must be greater than zero.\n",
      " |  \n",
      " |  normalvariate(self, mu, sigma)\n",
      " |      Normal distribution.\n",
      " |      \n",
      " |      mu is the mean, and sigma is the standard deviation.\n",
      " |  \n",
      " |  paretovariate(self, alpha)\n",
      " |      Pareto distribution.  alpha is the shape parameter.\n",
      " |  \n",
      " |  randint(self, a, b)\n",
      " |      Return random integer in range [a, b], including both end points.\n",
      " |  \n",
      " |  randrange(self, start, stop=None, step=1)\n",
      " |      Choose a random item from range(start, stop[, step]).\n",
      " |      \n",
      " |      This fixes the problem with randint() which includes the\n",
      " |      endpoint; in Python this is usually not what you want.\n",
      " |  \n",
      " |  sample(self, population, k, *, counts=None)\n",
      " |      Chooses k unique random elements from a population sequence or set.\n",
      " |      \n",
      " |      Returns a new list containing elements from the population while\n",
      " |      leaving the original population unchanged.  The resulting list is\n",
      " |      in selection order so that all sub-slices will also be valid random\n",
      " |      samples.  This allows raffle winners (the sample) to be partitioned\n",
      " |      into grand prize and second place winners (the subslices).\n",
      " |      \n",
      " |      Members of the population need not be hashable or unique.  If the\n",
      " |      population contains repeats, then each occurrence is a possible\n",
      " |      selection in the sample.\n",
      " |      \n",
      " |      Repeated elements can be specified one at a time or with the optional\n",
      " |      counts parameter.  For example:\n",
      " |      \n",
      " |          sample(['red', 'blue'], counts=[4, 2], k=5)\n",
      " |      \n",
      " |      is equivalent to:\n",
      " |      \n",
      " |          sample(['red', 'red', 'red', 'red', 'blue', 'blue'], k=5)\n",
      " |      \n",
      " |      To choose a sample from a range of integers, use range() for the\n",
      " |      population argument.  This is especially fast and space efficient\n",
      " |      for sampling from a large population:\n",
      " |      \n",
      " |          sample(range(10000000), 60)\n",
      " |  \n",
      " |  shuffle(self, x, random=None)\n",
      " |      Shuffle list x in place, and return None.\n",
      " |      \n",
      " |      Optional argument random is a 0-argument function returning a\n",
      " |      random float in [0.0, 1.0); if it is the default None, the\n",
      " |      standard random.random will be used.\n",
      " |  \n",
      " |  triangular(self, low=0.0, high=1.0, mode=None)\n",
      " |      Triangular distribution.\n",
      " |      \n",
      " |      Continuous distribution bounded by given lower and upper limits,\n",
      " |      and having a given mode value in-between.\n",
      " |      \n",
      " |      http://en.wikipedia.org/wiki/Triangular_distribution\n",
      " |  \n",
      " |  uniform(self, a, b)\n",
      " |      Get a random number in the range [a, b) or [a, b] depending on rounding.\n",
      " |  \n",
      " |  vonmisesvariate(self, mu, kappa)\n",
      " |      Circular data distribution.\n",
      " |      \n",
      " |      mu is the mean angle, expressed in radians between 0 and 2*pi, and\n",
      " |      kappa is the concentration parameter, which must be greater than or\n",
      " |      equal to zero.  If kappa is equal to zero, this distribution reduces\n",
      " |      to a uniform random angle over the range 0 to 2*pi.\n",
      " |  \n",
      " |  weibullvariate(self, alpha, beta)\n",
      " |      Weibull distribution.\n",
      " |      \n",
      " |      alpha is the scale parameter and beta is the shape parameter.\n",
      " |  \n",
      " |  ----------------------------------------------------------------------\n",
      " |  Class methods inherited from Random:\n",
      " |  \n",
      " |  __init_subclass__(**kwargs) from builtins.type\n",
      " |      Control how subclasses generate random integers.\n",
      " |      \n",
      " |      The algorithm a subclass can use depends on the random() and/or\n",
      " |      getrandbits() implementation available to it and determines\n",
      " |      whether it can generate random integers from arbitrarily large\n",
      " |      ranges.\n",
      " |  \n",
      " |  ----------------------------------------------------------------------\n",
      " |  Data descriptors inherited from Random:\n",
      " |  \n",
      " |  __dict__\n",
      " |      dictionary for instance variables (if defined)\n",
      " |  \n",
      " |  __weakref__\n",
      " |      list of weak references to the object (if defined)\n",
      " |  \n",
      " |  ----------------------------------------------------------------------\n",
      " |  Data and other attributes inherited from Random:\n",
      " |  \n",
      " |  VERSION = 3\n",
      " |  \n",
      " |  ----------------------------------------------------------------------\n",
      " |  Static methods inherited from _random.Random:\n",
      " |  \n",
      " |  __new__(*args, **kwargs) from builtins.type\n",
      " |      Create and return a new object.  See help(type) for accurate signature.\n",
      "\n"
     ]
    }
   ],
   "source": [
    "help(secrets.SystemRandom)"
   ]
  },
  {
   "cell_type": "code",
   "execution_count": 6,
   "id": "6168bb9e",
   "metadata": {},
   "outputs": [
    {
     "data": {
      "text/plain": [
       "5"
      ]
     },
     "execution_count": 6,
     "metadata": {},
     "output_type": "execute_result"
    }
   ],
   "source": [
    "secrets.randbelow(32)"
   ]
  },
  {
   "cell_type": "code",
   "execution_count": 7,
   "id": "57594c40",
   "metadata": {},
   "outputs": [
    {
     "data": {
      "text/plain": [
       "23"
      ]
     },
     "execution_count": 7,
     "metadata": {},
     "output_type": "execute_result"
    }
   ],
   "source": [
    "secrets.randbelow(32)"
   ]
  },
  {
   "cell_type": "code",
   "execution_count": 8,
   "id": "f2a2db21",
   "metadata": {},
   "outputs": [
    {
     "data": {
      "text/plain": [
       "30"
      ]
     },
     "execution_count": 8,
     "metadata": {},
     "output_type": "execute_result"
    }
   ],
   "source": [
    "secrets.randbelow(32)"
   ]
  },
  {
   "cell_type": "code",
   "execution_count": 9,
   "id": "e813cbdc",
   "metadata": {},
   "outputs": [
    {
     "data": {
      "text/plain": [
       "156"
      ]
     },
     "execution_count": 9,
     "metadata": {},
     "output_type": "execute_result"
    }
   ],
   "source": [
    "secrets.randbits(8)"
   ]
  },
  {
   "cell_type": "code",
   "execution_count": 10,
   "id": "7c229483",
   "metadata": {},
   "outputs": [
    {
     "data": {
      "text/plain": [
       "b'w\\xc3@`F\\xffjU6\\\\\\xcc4\\x06\\xeb\\x8dF\\xa5\\x8c\\xb8|\\xa4G\\xceB\\x02\\x08;\\x00d9\\x86W\\xe2\\xf5;D\\xb5\\xbb\\xa9\\x92\\x90\\nA\\xce#\\xa4!\\xa6\\x1f\\xe1\\xd2\\x8e\\rj.\\xeb\\x90\\xae\\x9e\\x1f\\x1a|\\xcf\\xd2\\x8f\\x87\\nq\\xa8\\x8b*\\x07\\x04\\xbc=5\\x10%\\xf0\\x12\\x1d\\xbaD\\xfcY\\x1a\\x08z\\xf7\\t\\xb1\\xac\\xb7\\xae\\xa43>\\xf6l\\x1f'"
      ]
     },
     "execution_count": 10,
     "metadata": {},
     "output_type": "execute_result"
    }
   ],
   "source": [
    "secrets.token_bytes(100)"
   ]
  },
  {
   "cell_type": "code",
   "execution_count": 11,
   "id": "11a5149f",
   "metadata": {},
   "outputs": [
    {
     "data": {
      "text/plain": [
       "b'7E\\xcb\\xde(E\\x15-\\xd66V\"\\xdda+\\xf9\\xfa\\xb6t\\xe1\\xd48\\x10\\x0bRd\\xff\\x9c\\x12\\xc0\\xd1\\xf0m\\xb6\\xfad/\\x97\\xcbr\\x14F\\xd8s(\\xc8E\\xab9\\xf4\\xc7\\xc8\\xfd\\xc1!|\\xa0\\x87tI \\xa4tT\\x13\\xbbU\\x86X\\x18\\xddG\\x90\\x1ar\\xf9\\xfcn&2\\x97\\x1a\\t\\x18\\x11\\xd9\\xa8\\x7fy\\xb0\\xdf7s_\\xaa\\'\\x92\\x0c\\xd0\\xc5'"
      ]
     },
     "execution_count": 11,
     "metadata": {},
     "output_type": "execute_result"
    }
   ],
   "source": [
    "secrets.token_bytes(100)"
   ]
  },
  {
   "cell_type": "code",
   "execution_count": 12,
   "id": "ec659e96",
   "metadata": {},
   "outputs": [
    {
     "data": {
      "text/plain": [
       "'3e2ce08b22cf89ffde74e782cf1ffe243bcf1d4f052dc53d74672ddc79cbe35124ef44a518ea62e9215d7985e721ffad6656ea39f6888c19b23388e65bd08467560c88e9b3f6b299fea22c05780aac9ac9ff318913c32a429c0ed337d04ca8e54076be99'"
      ]
     },
     "execution_count": 12,
     "metadata": {},
     "output_type": "execute_result"
    }
   ],
   "source": [
    "secrets.token_hex(100)"
   ]
  },
  {
   "cell_type": "code",
   "execution_count": 13,
   "id": "c5334c6d",
   "metadata": {},
   "outputs": [
    {
     "data": {
      "text/plain": [
       "'dbc2824bcfdff3ab21966e5bb8bbfe514cd30565133554c8d23f554cb3f10421860876083dbacc1383034889131232d4377b14e75a1cbc8ed8a6fffa83c95a84abb2594df0031e54556a808ede666e1d96e51a327a342678dbf13da018d6f1b82ca2bee2'"
      ]
     },
     "execution_count": 13,
     "metadata": {},
     "output_type": "execute_result"
    }
   ],
   "source": [
    "secrets.token_hex(100)"
   ]
  },
  {
   "cell_type": "code",
   "execution_count": 14,
   "id": "2c67487e",
   "metadata": {},
   "outputs": [
    {
     "data": {
      "text/plain": [
       "'RJQxTg_fBMyqo6nTI_Nu4zwcyc23ai_tSuXbbm8xBgQ'"
      ]
     },
     "execution_count": 14,
     "metadata": {},
     "output_type": "execute_result"
    }
   ],
   "source": [
    "secrets.token_urlsafe()"
   ]
  },
  {
   "cell_type": "code",
   "execution_count": 15,
   "id": "b1614797",
   "metadata": {},
   "outputs": [
    {
     "data": {
      "text/plain": [
       "'YOJ9pmcrkoAbS6yjYq589Eqc0wJwDJtkTBTb5MsGwlSI5XrlS25qJxa4UgeqvTAltpRR9NzZbZAMTGSxV5Vk3Y0LJM8ctAjQgxc0QBINNcF2goS4VyjxwECoRoBJzA6i-NYkJQ'"
      ]
     },
     "execution_count": 15,
     "metadata": {},
     "output_type": "execute_result"
    }
   ],
   "source": [
    "secrets.token_urlsafe(100)"
   ]
  },
  {
   "cell_type": "markdown",
   "id": "4dd7eeb2",
   "metadata": {},
   "source": [
    "# STRING"
   ]
  },
  {
   "cell_type": "code",
   "execution_count": 16,
   "id": "406e7b7f",
   "metadata": {},
   "outputs": [],
   "source": [
    "import string"
   ]
  },
  {
   "cell_type": "code",
   "execution_count": 17,
   "id": "9d0d34b3",
   "metadata": {},
   "outputs": [
    {
     "data": {
      "text/plain": [
       "['Formatter',\n",
       " 'Template',\n",
       " '_ChainMap',\n",
       " '__all__',\n",
       " '__builtins__',\n",
       " '__cached__',\n",
       " '__doc__',\n",
       " '__file__',\n",
       " '__loader__',\n",
       " '__name__',\n",
       " '__package__',\n",
       " '__spec__',\n",
       " '_re',\n",
       " '_sentinel_dict',\n",
       " '_string',\n",
       " 'ascii_letters',\n",
       " 'ascii_lowercase',\n",
       " 'ascii_uppercase',\n",
       " 'capwords',\n",
       " 'digits',\n",
       " 'hexdigits',\n",
       " 'octdigits',\n",
       " 'printable',\n",
       " 'punctuation',\n",
       " 'whitespace']"
      ]
     },
     "execution_count": 17,
     "metadata": {},
     "output_type": "execute_result"
    }
   ],
   "source": [
    "dir(string)"
   ]
  },
  {
   "cell_type": "code",
   "execution_count": 18,
   "id": "e1a1caaf",
   "metadata": {},
   "outputs": [
    {
     "data": {
      "text/plain": [
       "'ABCDEFGHIJKLMNOPQRSTUVWXYZ'"
      ]
     },
     "execution_count": 18,
     "metadata": {},
     "output_type": "execute_result"
    }
   ],
   "source": [
    "string.ascii_uppercase"
   ]
  },
  {
   "cell_type": "code",
   "execution_count": 19,
   "id": "501c9533",
   "metadata": {},
   "outputs": [
    {
     "data": {
      "text/plain": [
       "'abcdefghijklmnopqrstuvwxyzABCDEFGHIJKLMNOPQRSTUVWXYZ'"
      ]
     },
     "execution_count": 19,
     "metadata": {},
     "output_type": "execute_result"
    }
   ],
   "source": [
    "string.ascii_letters"
   ]
  },
  {
   "cell_type": "code",
   "execution_count": 20,
   "id": "f276a1a8",
   "metadata": {},
   "outputs": [
    {
     "data": {
      "text/plain": [
       "'abcdefghijklmnopqrstuvwxyz'"
      ]
     },
     "execution_count": 20,
     "metadata": {},
     "output_type": "execute_result"
    }
   ],
   "source": [
    "string.ascii_lowercase"
   ]
  },
  {
   "cell_type": "markdown",
   "id": "f338f1af",
   "metadata": {},
   "source": [
    "# RANDOM"
   ]
  },
  {
   "cell_type": "code",
   "execution_count": 21,
   "id": "a7652fb4",
   "metadata": {},
   "outputs": [],
   "source": [
    "import random"
   ]
  },
  {
   "cell_type": "code",
   "execution_count": 22,
   "id": "7ca91ee6",
   "metadata": {},
   "outputs": [
    {
     "data": {
      "text/plain": [
       "'Z'"
      ]
     },
     "execution_count": 22,
     "metadata": {},
     "output_type": "execute_result"
    }
   ],
   "source": [
    "random.choice(string.ascii_letters)"
   ]
  },
  {
   "cell_type": "code",
   "execution_count": 23,
   "id": "f2bef3ae",
   "metadata": {},
   "outputs": [
    {
     "data": {
      "text/plain": [
       "'F'"
      ]
     },
     "execution_count": 23,
     "metadata": {},
     "output_type": "execute_result"
    }
   ],
   "source": [
    "random.choice(string.ascii_letters)"
   ]
  },
  {
   "cell_type": "code",
   "execution_count": 24,
   "id": "d960b198",
   "metadata": {},
   "outputs": [
    {
     "data": {
      "text/plain": [
       "'9'"
      ]
     },
     "execution_count": 24,
     "metadata": {},
     "output_type": "execute_result"
    }
   ],
   "source": [
    "random.choice(string.digits)"
   ]
  },
  {
   "cell_type": "code",
   "execution_count": 25,
   "id": "8b207732",
   "metadata": {},
   "outputs": [
    {
     "data": {
      "text/plain": [
       "'4'"
      ]
     },
     "execution_count": 25,
     "metadata": {},
     "output_type": "execute_result"
    }
   ],
   "source": [
    "random.choice(string.digits)"
   ]
  },
  {
   "cell_type": "code",
   "execution_count": null,
   "id": "4b9faec4",
   "metadata": {},
   "outputs": [],
   "source": []
  }
 ],
 "metadata": {
  "kernelspec": {
   "display_name": "Python 3 (ipykernel)",
   "language": "python",
   "name": "python3"
  },
  "language_info": {
   "codemirror_mode": {
    "name": "ipython",
    "version": 3
   },
   "file_extension": ".py",
   "mimetype": "text/x-python",
   "name": "python",
   "nbconvert_exporter": "python",
   "pygments_lexer": "ipython3",
   "version": "3.9.2"
  }
 },
 "nbformat": 4,
 "nbformat_minor": 5
}
