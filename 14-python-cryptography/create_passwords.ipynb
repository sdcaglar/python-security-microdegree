{
 "cells": [
  {
   "cell_type": "code",
   "execution_count": 1,
   "id": "f4d2c47f",
   "metadata": {},
   "outputs": [],
   "source": [
    "import hashlib"
   ]
  },
  {
   "cell_type": "code",
   "execution_count": 2,
   "id": "b635d5dc",
   "metadata": {},
   "outputs": [
    {
     "data": {
      "text/plain": [
       "'0a041b9462caa4a31bac3567e0b6e6fd9100787db2ab433d96f6d178cabfce90'"
      ]
     },
     "execution_count": 2,
     "metadata": {},
     "output_type": "execute_result"
    }
   ],
   "source": [
    "hasher = hashlib.sha256()\n",
    "hasher.update(b\"user1\")\n",
    "hasher.hexdigest()"
   ]
  },
  {
   "cell_type": "code",
   "execution_count": 3,
   "id": "406df7c1",
   "metadata": {},
   "outputs": [
    {
     "data": {
      "text/plain": [
       "'6025d18fe48abd45168528f18a82e265dd98d421a7084aa09f61b341703901a3'"
      ]
     },
     "execution_count": 3,
     "metadata": {},
     "output_type": "execute_result"
    }
   ],
   "source": [
    "hasher = hashlib.sha256()\n",
    "hasher.update(b\"user2\")\n",
    "hasher.hexdigest()"
   ]
  },
  {
   "cell_type": "code",
   "execution_count": 4,
   "id": "dcffe81a",
   "metadata": {},
   "outputs": [
    {
     "data": {
      "text/plain": [
       "'626f51a249394edeff546923b1a5080b792315cd109d32933ba8b91ddc5cf863'"
      ]
     },
     "execution_count": 4,
     "metadata": {},
     "output_type": "execute_result"
    }
   ],
   "source": [
    "hasher = hashlib.sha256()\n",
    "hasher.update(b\"Start!123\")\n",
    "hasher.hexdigest()"
   ]
  },
  {
   "cell_type": "code",
   "execution_count": 5,
   "id": "a35f630e",
   "metadata": {},
   "outputs": [
    {
     "data": {
      "text/plain": [
       "'1bb6e3a85ddd637bddad86d6a5b5ee5252fb1bf1d8a3134ef6ee03ca295fce1c'"
      ]
     },
     "execution_count": 5,
     "metadata": {},
     "output_type": "execute_result"
    }
   ],
   "source": [
    "hasher = hashlib.sha256()\n",
    "hasher.update(b\"Admin!123\")\n",
    "hasher.hexdigest()"
   ]
  }
 ],
 "metadata": {
  "kernelspec": {
   "display_name": "Python 3 (ipykernel)",
   "language": "python",
   "name": "python3"
  },
  "language_info": {
   "codemirror_mode": {
    "name": "ipython",
    "version": 3
   },
   "file_extension": ".py",
   "mimetype": "text/x-python",
   "name": "python",
   "nbconvert_exporter": "python",
   "pygments_lexer": "ipython3",
   "version": "3.9.2"
  }
 },
 "nbformat": 4,
 "nbformat_minor": 5
}
