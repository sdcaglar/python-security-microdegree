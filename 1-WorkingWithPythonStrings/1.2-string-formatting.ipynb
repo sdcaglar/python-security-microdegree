{
 "cells": [
  {
   "cell_type": "code",
   "execution_count": 1,
   "id": "9413e6cc",
   "metadata": {},
   "outputs": [
    {
     "name": "stdout",
     "output_type": "stream",
     "text": [
      "This is a simple string\n"
     ]
    }
   ],
   "source": [
    "print(\"This is a simple string\")"
   ]
  },
  {
   "cell_type": "code",
   "execution_count": 2,
   "id": "ad10812f",
   "metadata": {},
   "outputs": [
    {
     "name": "stdout",
     "output_type": "stream",
     "text": [
      "This is a string substitusion this is substituted\n"
     ]
    }
   ],
   "source": [
    "print(\"This is a string substitusion %s\" % (\"this is substituted\"))"
   ]
  },
  {
   "cell_type": "code",
   "execution_count": 3,
   "id": "f4bfcdf7",
   "metadata": {},
   "outputs": [
    {
     "name": "stdout",
     "output_type": "stream",
     "text": [
      "This is a string substitusion This is to be substituted!\n"
     ]
    }
   ],
   "source": [
    "var = \"This is to be substituted!\"\n",
    "print(\"This is a string substitusion %s\" % (var))"
   ]
  },
  {
   "cell_type": "code",
   "execution_count": 4,
   "id": "ae9e7558",
   "metadata": {},
   "outputs": [
    {
     "name": "stdout",
     "output_type": "stream",
     "text": [
      "This is a = 10, and this is b = 20\n"
     ]
    }
   ],
   "source": [
    "print(\"This is a = {a}, and this is b = {b}\".format(a = 10, b = 20))"
   ]
  },
  {
   "cell_type": "code",
   "execution_count": 5,
   "id": "e7237fa3",
   "metadata": {},
   "outputs": [
    {
     "name": "stdout",
     "output_type": "stream",
     "text": [
      "This is a = 10, and this is b = 20 this is positional 30\n"
     ]
    }
   ],
   "source": [
    "print(\"This is a = {a}, and this is b = {b} this is positional {}\".format(30, a = 10, b = 20))"
   ]
  },
  {
   "cell_type": "code",
   "execution_count": 6,
   "id": "903d9366",
   "metadata": {},
   "outputs": [
    {
     "name": "stdout",
     "output_type": "stream",
     "text": [
      "This is first position argument: 10, this is the second positional argument: 20\n"
     ]
    }
   ],
   "source": [
    "print(\"This is first position argument: {}, this is the second positional argument: {}\".format(10, \"20\"))"
   ]
  },
  {
   "cell_type": "code",
   "execution_count": 7,
   "id": "f9f914cc",
   "metadata": {},
   "outputs": [
    {
     "name": "stdout",
     "output_type": "stream",
     "text": [
      "This is first position argument: 10, this is the second positional argument: 20\n"
     ]
    }
   ],
   "source": [
    "print(\"This is first position argument: {0}, this is the second positional argument: {1}\".format(10, \"20\"))"
   ]
  },
  {
   "cell_type": "code",
   "execution_count": 8,
   "id": "44af0ad8",
   "metadata": {},
   "outputs": [
    {
     "name": "stdout",
     "output_type": "stream",
     "text": [
      "1 2 3\n"
     ]
    }
   ],
   "source": [
    "print(\"{} {} {}\".format(1,2,3))"
   ]
  },
  {
   "cell_type": "code",
   "execution_count": 9,
   "id": "bd88ef73",
   "metadata": {},
   "outputs": [
    {
     "ename": "IndexError",
     "evalue": "Replacement index 2 out of range for positional args tuple",
     "output_type": "error",
     "traceback": [
      "\u001b[0;31m---------------------------------------------------------------------------\u001b[0m",
      "\u001b[0;31mIndexError\u001b[0m                                Traceback (most recent call last)",
      "\u001b[0;32m/tmp/ipykernel_122357/1363981339.py\u001b[0m in \u001b[0;36m<module>\u001b[0;34m\u001b[0m\n\u001b[0;32m----> 1\u001b[0;31m \u001b[0mprint\u001b[0m\u001b[0;34m(\u001b[0m\u001b[0;34m\"{} {} {}\"\u001b[0m\u001b[0;34m.\u001b[0m\u001b[0mformat\u001b[0m\u001b[0;34m(\u001b[0m\u001b[0;36m1\u001b[0m\u001b[0;34m,\u001b[0m\u001b[0;36m2\u001b[0m\u001b[0;34m)\u001b[0m\u001b[0;34m)\u001b[0m\u001b[0;34m\u001b[0m\u001b[0;34m\u001b[0m\u001b[0m\n\u001b[0m",
      "\u001b[0;31mIndexError\u001b[0m: Replacement index 2 out of range for positional args tuple"
     ]
    }
   ],
   "source": [
    "print(\"{} {} {}\".format(1,2))"
   ]
  },
  {
   "cell_type": "code",
   "execution_count": null,
   "id": "e3661f78",
   "metadata": {},
   "outputs": [],
   "source": [
    "print(\"{0} {1} {0}\".format(1,2))"
   ]
  },
  {
   "cell_type": "code",
   "execution_count": null,
   "id": "4558ae7f",
   "metadata": {},
   "outputs": [],
   "source": [
    "a = 5\n",
    "b = 10\n",
    "print(f\"{a} {b}\")"
   ]
  },
  {
   "cell_type": "code",
   "execution_count": null,
   "id": "b20ffe45",
   "metadata": {},
   "outputs": [],
   "source": [
    "def printer():\n",
    "    a = 30\n",
    "    b = 40\n",
    "    print(f\"{a} {b}\")\n",
    "printer()"
   ]
  },
  {
   "cell_type": "markdown",
   "id": "d0a3a824",
   "metadata": {},
   "source": [
    "## globals / locals"
   ]
  },
  {
   "cell_type": "code",
   "execution_count": null,
   "id": "71f89547",
   "metadata": {},
   "outputs": [],
   "source": [
    "def scoped():\n",
    "    print(\"a = {a}, b = {b}\".format(a = 10, b = 20))\n",
    "scoped()"
   ]
  },
  {
   "cell_type": "code",
   "execution_count": null,
   "id": "b375cfdf",
   "metadata": {},
   "outputs": [],
   "source": [
    "def scoped():\n",
    "    print(\"a = {a}, b = {b}\".format(**globals()))\n",
    "scoped()"
   ]
  },
  {
   "cell_type": "code",
   "execution_count": null,
   "id": "eea70736",
   "metadata": {},
   "outputs": [],
   "source": [
    "def scoped():\n",
    "    print(\"a = {a}, b = {b}\".format(**locals()))\n",
    "scoped()"
   ]
  },
  {
   "cell_type": "code",
   "execution_count": null,
   "id": "2e1bc842",
   "metadata": {},
   "outputs": [],
   "source": [
    "def scoped(a, b):\n",
    "    a = 88\n",
    "    b = 99\n",
    "    print(\"a = {a}, b = {b}\".format(**locals()))\n",
    "scoped(44, 55)"
   ]
  }
 ],
 "metadata": {
  "kernelspec": {
   "display_name": "Python 3 (ipykernel)",
   "language": "python",
   "name": "python3"
  },
  "language_info": {
   "codemirror_mode": {
    "name": "ipython",
    "version": 3
   },
   "file_extension": ".py",
   "mimetype": "text/x-python",
   "name": "python",
   "nbconvert_exporter": "python",
   "pygments_lexer": "ipython3",
   "version": "3.9.2"
  }
 },
 "nbformat": 4,
 "nbformat_minor": 5
}
