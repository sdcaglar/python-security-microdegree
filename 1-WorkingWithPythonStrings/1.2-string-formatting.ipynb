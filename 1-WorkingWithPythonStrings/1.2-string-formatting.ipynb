{
 "cells": [
  {
   "cell_type": "code",
   "execution_count": 1,
   "id": "6de38769",
   "metadata": {},
   "outputs": [
    {
     "name": "stdout",
     "output_type": "stream",
     "text": [
      "This is a simple string\n"
     ]
    }
   ],
   "source": [
    "print(\"This is a simple string\")"
   ]
  },
  {
   "cell_type": "code",
   "execution_count": 2,
   "id": "65aa5889",
   "metadata": {},
   "outputs": [
    {
     "name": "stdout",
     "output_type": "stream",
     "text": [
      "This is a string substitusion this is substituted\n"
     ]
    }
   ],
   "source": [
    "print(\"This is a string substitusion %s\" % (\"this is substituted\"))"
   ]
  },
  {
   "cell_type": "code",
   "execution_count": 3,
   "id": "8d96cfb6",
   "metadata": {},
   "outputs": [
    {
     "name": "stdout",
     "output_type": "stream",
     "text": [
      "This is a string substitusion This is to be substituted!\n"
     ]
    }
   ],
   "source": [
    "var = \"This is to be substituted!\"\n",
    "print(\"This is a string substitusion %s\" % (var))"
   ]
  },
  {
   "cell_type": "code",
   "execution_count": 4,
   "id": "441e6124",
   "metadata": {},
   "outputs": [
    {
     "name": "stdout",
     "output_type": "stream",
     "text": [
      "This is a = 10, and this is b = 20\n"
     ]
    }
   ],
   "source": [
    "print(\"This is a = {a}, and this is b = {b}\".format(a = 10, b = 20))"
   ]
  },
  {
   "cell_type": "code",
   "execution_count": 5,
   "id": "6353875c",
   "metadata": {},
   "outputs": [
    {
     "name": "stdout",
     "output_type": "stream",
     "text": [
      "This is a = 10, and this is b = 20 this is positional 30\n"
     ]
    }
   ],
   "source": [
    "print(\"This is a = {a}, and this is b = {b} this is positional {}\".format(30, a = 10, b = 20))"
   ]
  },
  {
   "cell_type": "code",
   "execution_count": 6,
   "id": "71d5886d",
   "metadata": {},
   "outputs": [
    {
     "name": "stdout",
     "output_type": "stream",
     "text": [
      "This is first position argument: 10, this is the second positional argument: 20\n"
     ]
    }
   ],
   "source": [
    "print(\"This is first position argument: {}, this is the second positional argument: {}\".format(10, \"20\"))"
   ]
  },
  {
   "cell_type": "code",
   "execution_count": 7,
   "id": "87e344c3",
   "metadata": {},
   "outputs": [
    {
     "name": "stdout",
     "output_type": "stream",
     "text": [
      "This is first position argument: 10, this is the second positional argument: 20\n"
     ]
    }
   ],
   "source": [
    "print(\"This is first position argument: {0}, this is the second positional argument: {1}\".format(10, \"20\"))"
   ]
  },
  {
   "cell_type": "code",
   "execution_count": 8,
   "id": "544430ea",
   "metadata": {},
   "outputs": [
    {
     "name": "stdout",
     "output_type": "stream",
     "text": [
      "1 2 3\n"
     ]
    }
   ],
   "source": [
    "print(\"{} {} {}\".format(1,2,3))"
   ]
  },
  {
   "cell_type": "code",
   "execution_count": 9,
   "id": "e0912420",
   "metadata": {},
   "outputs": [
    {
     "ename": "IndexError",
     "evalue": "Replacement index 2 out of range for positional args tuple",
     "output_type": "error",
     "traceback": [
      "\u001b[0;31m---------------------------------------------------------------------------\u001b[0m",
      "\u001b[0;31mIndexError\u001b[0m                                Traceback (most recent call last)",
      "\u001b[0;32m/tmp/ipykernel_122378/1363981339.py\u001b[0m in \u001b[0;36m<module>\u001b[0;34m\u001b[0m\n\u001b[0;32m----> 1\u001b[0;31m \u001b[0mprint\u001b[0m\u001b[0;34m(\u001b[0m\u001b[0;34m\"{} {} {}\"\u001b[0m\u001b[0;34m.\u001b[0m\u001b[0mformat\u001b[0m\u001b[0;34m(\u001b[0m\u001b[0;36m1\u001b[0m\u001b[0;34m,\u001b[0m\u001b[0;36m2\u001b[0m\u001b[0;34m)\u001b[0m\u001b[0;34m)\u001b[0m\u001b[0;34m\u001b[0m\u001b[0;34m\u001b[0m\u001b[0m\n\u001b[0m",
      "\u001b[0;31mIndexError\u001b[0m: Replacement index 2 out of range for positional args tuple"
     ]
    }
   ],
   "source": [
    "print(\"{} {} {}\".format(1,2))"
   ]
  },
  {
   "cell_type": "code",
   "execution_count": 10,
   "id": "2c77bfb4",
   "metadata": {},
   "outputs": [
    {
     "name": "stdout",
     "output_type": "stream",
     "text": [
      "1 2 1\n"
     ]
    }
   ],
   "source": [
    "print(\"{0} {1} {0}\".format(1,2))"
   ]
  },
  {
   "cell_type": "code",
   "execution_count": 11,
   "id": "a72697fa",
   "metadata": {},
   "outputs": [
    {
     "name": "stdout",
     "output_type": "stream",
     "text": [
      "5 10\n"
     ]
    }
   ],
   "source": [
    "a = 5\n",
    "b = 10\n",
    "print(f\"{a} {b}\")"
   ]
  },
  {
   "cell_type": "code",
   "execution_count": 12,
   "id": "138970a4",
   "metadata": {},
   "outputs": [
    {
     "name": "stdout",
     "output_type": "stream",
     "text": [
      "30 40\n"
     ]
    }
   ],
   "source": [
    "def printer():\n",
    "    a = 30\n",
    "    b = 40\n",
    "    print(f\"{a} {b}\")\n",
    "printer()"
   ]
  },
  {
   "cell_type": "markdown",
   "id": "bf2e7c2c",
   "metadata": {},
   "source": [
    "## globals / locals"
   ]
  },
  {
   "cell_type": "code",
   "execution_count": 13,
   "id": "ee9390fe",
   "metadata": {},
   "outputs": [
    {
     "name": "stdout",
     "output_type": "stream",
     "text": [
      "a = 10, b = 20\n"
     ]
    }
   ],
   "source": [
    "def scoped():\n",
    "    print(\"a = {a}, b = {b}\".format(a = 10, b = 20))\n",
    "scoped()"
   ]
  },
  {
   "cell_type": "code",
   "execution_count": 14,
   "id": "527275ef",
   "metadata": {},
   "outputs": [
    {
     "name": "stdout",
     "output_type": "stream",
     "text": [
      "a = 5, b = 10\n"
     ]
    }
   ],
   "source": [
    "def scoped():\n",
    "    print(\"a = {a}, b = {b}\".format(**globals()))\n",
    "scoped()"
   ]
  },
  {
   "cell_type": "code",
   "execution_count": 15,
   "id": "970369cf",
   "metadata": {},
   "outputs": [
    {
     "ename": "KeyError",
     "evalue": "'a'",
     "output_type": "error",
     "traceback": [
      "\u001b[0;31m---------------------------------------------------------------------------\u001b[0m",
      "\u001b[0;31mKeyError\u001b[0m                                  Traceback (most recent call last)",
      "\u001b[0;32m/tmp/ipykernel_122378/1871526796.py\u001b[0m in \u001b[0;36m<module>\u001b[0;34m\u001b[0m\n\u001b[1;32m      1\u001b[0m \u001b[0;32mdef\u001b[0m \u001b[0mscoped\u001b[0m\u001b[0;34m(\u001b[0m\u001b[0;34m)\u001b[0m\u001b[0;34m:\u001b[0m\u001b[0;34m\u001b[0m\u001b[0;34m\u001b[0m\u001b[0m\n\u001b[1;32m      2\u001b[0m     \u001b[0mprint\u001b[0m\u001b[0;34m(\u001b[0m\u001b[0;34m\"a = {a}, b = {b}\"\u001b[0m\u001b[0;34m.\u001b[0m\u001b[0mformat\u001b[0m\u001b[0;34m(\u001b[0m\u001b[0;34m**\u001b[0m\u001b[0mlocals\u001b[0m\u001b[0;34m(\u001b[0m\u001b[0;34m)\u001b[0m\u001b[0;34m)\u001b[0m\u001b[0;34m)\u001b[0m\u001b[0;34m\u001b[0m\u001b[0;34m\u001b[0m\u001b[0m\n\u001b[0;32m----> 3\u001b[0;31m \u001b[0mscoped\u001b[0m\u001b[0;34m(\u001b[0m\u001b[0;34m)\u001b[0m\u001b[0;34m\u001b[0m\u001b[0;34m\u001b[0m\u001b[0m\n\u001b[0m",
      "\u001b[0;32m/tmp/ipykernel_122378/1871526796.py\u001b[0m in \u001b[0;36mscoped\u001b[0;34m()\u001b[0m\n\u001b[1;32m      1\u001b[0m \u001b[0;32mdef\u001b[0m \u001b[0mscoped\u001b[0m\u001b[0;34m(\u001b[0m\u001b[0;34m)\u001b[0m\u001b[0;34m:\u001b[0m\u001b[0;34m\u001b[0m\u001b[0;34m\u001b[0m\u001b[0m\n\u001b[0;32m----> 2\u001b[0;31m     \u001b[0mprint\u001b[0m\u001b[0;34m(\u001b[0m\u001b[0;34m\"a = {a}, b = {b}\"\u001b[0m\u001b[0;34m.\u001b[0m\u001b[0mformat\u001b[0m\u001b[0;34m(\u001b[0m\u001b[0;34m**\u001b[0m\u001b[0mlocals\u001b[0m\u001b[0;34m(\u001b[0m\u001b[0;34m)\u001b[0m\u001b[0;34m)\u001b[0m\u001b[0;34m)\u001b[0m\u001b[0;34m\u001b[0m\u001b[0;34m\u001b[0m\u001b[0m\n\u001b[0m\u001b[1;32m      3\u001b[0m \u001b[0mscoped\u001b[0m\u001b[0;34m(\u001b[0m\u001b[0;34m)\u001b[0m\u001b[0;34m\u001b[0m\u001b[0;34m\u001b[0m\u001b[0m\n",
      "\u001b[0;31mKeyError\u001b[0m: 'a'"
     ]
    }
   ],
   "source": [
    "def scoped():\n",
    "    print(\"a = {a}, b = {b}\".format(**locals()))\n",
    "scoped()"
   ]
  },
  {
   "cell_type": "code",
   "execution_count": 16,
   "id": "5162c2d5",
   "metadata": {},
   "outputs": [
    {
     "name": "stdout",
     "output_type": "stream",
     "text": [
      "a = 88, b = 99\n"
     ]
    }
   ],
   "source": [
    "def scoped(a, b):\n",
    "    a = 88\n",
    "    b = 99\n",
    "    print(\"a = {a}, b = {b}\".format(**locals()))\n",
    "scoped(44, 55)"
   ]
  }
 ],
 "metadata": {
  "kernelspec": {
   "display_name": "Python 3 (ipykernel)",
   "language": "python",
   "name": "python3"
  },
  "language_info": {
   "codemirror_mode": {
    "name": "ipython",
    "version": 3
   },
   "file_extension": ".py",
   "mimetype": "text/x-python",
   "name": "python",
   "nbconvert_exporter": "python",
   "pygments_lexer": "ipython3",
   "version": "3.9.2"
  }
 },
 "nbformat": 4,
 "nbformat_minor": 5
}
