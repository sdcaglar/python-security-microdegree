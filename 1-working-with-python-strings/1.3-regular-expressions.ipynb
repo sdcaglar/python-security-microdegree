{
 "cells": [
  {
   "cell_type": "code",
   "execution_count": 1,
   "id": "c2591a7b",
   "metadata": {},
   "outputs": [],
   "source": [
    "import re"
   ]
  },
  {
   "cell_type": "code",
   "execution_count": 2,
   "id": "0f9a969a",
   "metadata": {},
   "outputs": [
    {
     "data": {
      "text/plain": [
       "['A',\n",
       " 'ASCII',\n",
       " 'DEBUG',\n",
       " 'DOTALL',\n",
       " 'I',\n",
       " 'IGNORECASE',\n",
       " 'L',\n",
       " 'LOCALE',\n",
       " 'M',\n",
       " 'MULTILINE',\n",
       " 'Match',\n",
       " 'Pattern',\n",
       " 'RegexFlag',\n",
       " 'S',\n",
       " 'Scanner',\n",
       " 'T',\n",
       " 'TEMPLATE',\n",
       " 'U',\n",
       " 'UNICODE',\n",
       " 'VERBOSE',\n",
       " 'X',\n",
       " '_MAXCACHE',\n",
       " '__all__',\n",
       " '__builtins__',\n",
       " '__cached__',\n",
       " '__doc__',\n",
       " '__file__',\n",
       " '__loader__',\n",
       " '__name__',\n",
       " '__package__',\n",
       " '__spec__',\n",
       " '__version__',\n",
       " '_cache',\n",
       " '_compile',\n",
       " '_compile_repl',\n",
       " '_expand',\n",
       " '_locale',\n",
       " '_pickle',\n",
       " '_special_chars_map',\n",
       " '_subx',\n",
       " 'compile',\n",
       " 'copyreg',\n",
       " 'enum',\n",
       " 'error',\n",
       " 'escape',\n",
       " 'findall',\n",
       " 'finditer',\n",
       " 'fullmatch',\n",
       " 'functools',\n",
       " 'match',\n",
       " 'purge',\n",
       " 'search',\n",
       " 'split',\n",
       " 'sre_compile',\n",
       " 'sre_parse',\n",
       " 'sub',\n",
       " 'subn',\n",
       " 'template']"
      ]
     },
     "execution_count": 2,
     "metadata": {},
     "output_type": "execute_result"
    }
   ],
   "source": [
    "dir(re)"
   ]
  },
  {
   "cell_type": "code",
   "execution_count": 3,
   "id": "1ccb76b6",
   "metadata": {},
   "outputs": [],
   "source": [
    "pattern = \"ECCouncil\"\n",
    "pattern = r\"ECCouncil\""
   ]
  },
  {
   "cell_type": "code",
   "execution_count": 4,
   "id": "c97efb49",
   "metadata": {},
   "outputs": [],
   "source": [
    "sequence = \"ECCouncil\""
   ]
  },
  {
   "cell_type": "code",
   "execution_count": 5,
   "id": "485cd772",
   "metadata": {},
   "outputs": [
    {
     "data": {
      "text/plain": [
       "<re.Match object; span=(0, 9), match='ECCouncil'>"
      ]
     },
     "execution_count": 5,
     "metadata": {},
     "output_type": "execute_result"
    }
   ],
   "source": [
    "re.match(pattern, sequence)"
   ]
  },
  {
   "cell_type": "code",
   "execution_count": 6,
   "id": "fec6257e",
   "metadata": {},
   "outputs": [],
   "source": [
    "sequence = \"ECCounci\"\n",
    "re.match(pattern, sequence)"
   ]
  },
  {
   "cell_type": "code",
   "execution_count": 7,
   "id": "0966677c",
   "metadata": {},
   "outputs": [
    {
     "data": {
      "text/plain": [
       "<re.Match object; span=(0, 9), match='ECCouncil'>"
      ]
     },
     "execution_count": 7,
     "metadata": {},
     "output_type": "execute_result"
    }
   ],
   "source": [
    "re.search(r\"E.C.u.c.l\", \"ECCouncil is a platform fro the busy syber securtiy professional\")"
   ]
  },
  {
   "cell_type": "code",
   "execution_count": 8,
   "id": "095bc8f0",
   "metadata": {},
   "outputs": [
    {
     "data": {
      "text/plain": [
       "'ECCouncil'"
      ]
     },
     "execution_count": 8,
     "metadata": {},
     "output_type": "execute_result"
    }
   ],
   "source": [
    "re.search(r\"E.C.u.c.l\", \"ECCouncil is a platform fro the busy syber securtiy professional\").group()"
   ]
  },
  {
   "cell_type": "code",
   "execution_count": 9,
   "id": "2f44e253",
   "metadata": {},
   "outputs": [
    {
     "data": {
      "text/plain": [
       "<re.Match object; span=(0, 9), match='ECCouncil'>"
      ]
     },
     "execution_count": 9,
     "metadata": {},
     "output_type": "execute_result"
    }
   ],
   "source": [
    "pattern = re.compile(\"ECCouncil\")\n",
    "sequence = \"ECCouncil\"\n",
    "pattern.match(sequence)"
   ]
  }
 ],
 "metadata": {
  "kernelspec": {
   "display_name": "Python 3 (ipykernel)",
   "language": "python",
   "name": "python3"
  },
  "language_info": {
   "codemirror_mode": {
    "name": "ipython",
    "version": 3
   },
   "file_extension": ".py",
   "mimetype": "text/x-python",
   "name": "python",
   "nbconvert_exporter": "python",
   "pygments_lexer": "ipython3",
   "version": "3.9.2"
  }
 },
 "nbformat": 4,
 "nbformat_minor": 5
}
